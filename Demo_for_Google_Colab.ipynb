{
  "nbformat": 4,
  "nbformat_minor": 0,
  "metadata": {
    "colab": {
      "name": "Demo for Google Colab",
      "provenance": [],
      "collapsed_sections": []
    },
    "kernelspec": {
      "name": "python3",
      "display_name": "Python 3"
    },
    "language_info": {
      "name": "python"
    },
    "accelerator": "GPU"
  },
  "cells": [
    {
      "cell_type": "markdown",
      "source": [
        "Checking out what GPU we got:"
      ],
      "metadata": {
        "id": "KvSbfbhCpnrS"
      }
    },
    {
      "cell_type": "code",
      "source": [
        "!nvidia-smi"
      ],
      "metadata": {
        "colab": {
          "base_uri": "https://localhost:8080/"
        },
        "id": "dRmROjAfplUR",
        "outputId": "5a241432-5f41-4ab4-bc13-de5a566f7e81"
      },
      "execution_count": 1,
      "outputs": [
        {
          "output_type": "stream",
          "name": "stdout",
          "text": [
            "Thu Jun 16 08:34:54 2022       \n",
            "+-----------------------------------------------------------------------------+\n",
            "| NVIDIA-SMI 460.32.03    Driver Version: 460.32.03    CUDA Version: 11.2     |\n",
            "|-------------------------------+----------------------+----------------------+\n",
            "| GPU  Name        Persistence-M| Bus-Id        Disp.A | Volatile Uncorr. ECC |\n",
            "| Fan  Temp  Perf  Pwr:Usage/Cap|         Memory-Usage | GPU-Util  Compute M. |\n",
            "|                               |                      |               MIG M. |\n",
            "|===============================+======================+======================|\n",
            "|   0  Tesla T4            Off  | 00000000:00:04.0 Off |                    0 |\n",
            "| N/A   51C    P8    10W /  70W |      0MiB / 15109MiB |      0%      Default |\n",
            "|                               |                      |                  N/A |\n",
            "+-------------------------------+----------------------+----------------------+\n",
            "                                                                               \n",
            "+-----------------------------------------------------------------------------+\n",
            "| Processes:                                                                  |\n",
            "|  GPU   GI   CI        PID   Type   Process name                  GPU Memory |\n",
            "|        ID   ID                                                   Usage      |\n",
            "|=============================================================================|\n",
            "|  No running processes found                                                 |\n",
            "+-----------------------------------------------------------------------------+\n"
          ]
        }
      ]
    },
    {
      "cell_type": "markdown",
      "source": [
        "First we clone the git repo:"
      ],
      "metadata": {
        "id": "5j8ucNls6Q4f"
      }
    },
    {
      "cell_type": "code",
      "source": [
        "%%shell\n",
        "git clone https://github.com/BouazzaSE/TorchCSD.git"
      ],
      "metadata": {
        "colab": {
          "base_uri": "https://localhost:8080/"
        },
        "id": "W1n3zdw-BLPX",
        "outputId": "d16ff683-4e01-4c15-b893-249042f91c94"
      },
      "execution_count": 2,
      "outputs": [
        {
          "output_type": "stream",
          "name": "stdout",
          "text": [
            "Cloning into 'TorchCSD'...\n",
            "remote: Enumerating objects: 217, done.\u001b[K\n",
            "remote: Counting objects: 100% (217/217), done.\u001b[K\n",
            "remote: Compressing objects: 100% (150/150), done.\u001b[K\n",
            "remote: Total 217 (delta 81), reused 160 (delta 47), pack-reused 0\u001b[K\n",
            "Receiving objects: 100% (217/217), 112.43 KiB | 10.22 MiB/s, done.\n",
            "Resolving deltas: 100% (81/81), done.\n"
          ]
        },
        {
          "output_type": "execute_result",
          "data": {
            "text/plain": [
              ""
            ]
          },
          "metadata": {},
          "execution_count": 2
        }
      ]
    },
    {
      "cell_type": "code",
      "source": [
        "# %%shell\n",
        "# cd TorchCSD\n",
        "# git pull origin"
      ],
      "metadata": {
        "id": "JfpPE_tUDJid"
      },
      "execution_count": 3,
      "outputs": []
    },
    {
      "cell_type": "markdown",
      "source": [
        "We then download the libtorch library. For this build example we download the 1.11 version targetted at a CUDA toolkit with version 10.2 (the library should work if the installed toolkit is more recent):"
      ],
      "metadata": {
        "id": "Du02hpKz6gM1"
      }
    },
    {
      "cell_type": "code",
      "source": [
        "%%shell\n",
        "wget https://download.pytorch.org/libtorch/cu102/libtorch-cxx11-abi-shared-with-deps-1.11.0%2Bcu102.zip\n",
        "unzip -q libtorch-cxx11-abi-shared-with-deps-1.11.0+cu102.zip"
      ],
      "metadata": {
        "colab": {
          "base_uri": "https://localhost:8080/"
        },
        "id": "McoRPbj9BWC8",
        "outputId": "a9db1a12-71fd-40bf-b576-d431f33e37dd"
      },
      "execution_count": 4,
      "outputs": [
        {
          "output_type": "stream",
          "name": "stdout",
          "text": [
            "--2022-06-16 08:35:03--  https://download.pytorch.org/libtorch/cu102/libtorch-cxx11-abi-shared-with-deps-1.11.0%2Bcu102.zip\n",
            "Resolving download.pytorch.org (download.pytorch.org)... 13.32.208.88, 13.32.208.46, 13.32.208.73, ...\n",
            "Connecting to download.pytorch.org (download.pytorch.org)|13.32.208.88|:443... connected.\n",
            "HTTP request sent, awaiting response... 200 OK\n",
            "Length: 813658822 (776M) [application/zip]\n",
            "Saving to: ‘libtorch-cxx11-abi-shared-with-deps-1.11.0+cu102.zip’\n",
            "\n",
            "libtorch-cxx11-abi- 100%[===================>] 775.96M  28.7MB/s    in 22s     \n",
            "\n",
            "2022-06-16 08:35:25 (35.3 MB/s) - ‘libtorch-cxx11-abi-shared-with-deps-1.11.0+cu102.zip’ saved [813658822/813658822]\n",
            "\n"
          ]
        },
        {
          "output_type": "execute_result",
          "data": {
            "text/plain": [
              ""
            ]
          },
          "metadata": {},
          "execution_count": 4
        }
      ]
    },
    {
      "cell_type": "markdown",
      "source": [
        "Specific libtorch CMake files are needed so that our project knows how to link against libtorch. These are found inside `libtorch/share/cmake/Torch`:"
      ],
      "metadata": {
        "id": "n0mqiXcB64lr"
      }
    },
    {
      "cell_type": "code",
      "source": [
        "%%shell\n",
        "ls libtorch/share/cmake/Torch"
      ],
      "metadata": {
        "colab": {
          "base_uri": "https://localhost:8080/"
        },
        "id": "SXGL5P5Ut4h4",
        "outputId": "7505ed13-d707-48c3-dd02-e914cb36dd0b"
      },
      "execution_count": 5,
      "outputs": [
        {
          "output_type": "stream",
          "name": "stdout",
          "text": [
            "TorchConfig.cmake  TorchConfigVersion.cmake\n"
          ]
        },
        {
          "output_type": "execute_result",
          "data": {
            "text/plain": [
              ""
            ]
          },
          "metadata": {},
          "execution_count": 5
        }
      ]
    },
    {
      "cell_type": "markdown",
      "source": [
        "Now we simply build our project using CMake:"
      ],
      "metadata": {
        "id": "l7mO0b0z7HBa"
      }
    },
    {
      "cell_type": "code",
      "source": [
        "%%shell\n",
        "cd TorchCSD\n",
        "# rm -rf build\n",
        "mkdir build\n",
        "cd build\n",
        "CC=clang CXX=clang++ cmake -DCMAKE_PREFIX_PATH=/content/libtorch/share/cmake/Torch ..\n",
        "CC=clang CXX=clang++ cmake --build . --config Release"
      ],
      "metadata": {
        "colab": {
          "base_uri": "https://localhost:8080/"
        },
        "id": "HuV8gHcatd-3",
        "outputId": "836c58c4-ea36-4846-c9d8-a5027b806c54"
      },
      "execution_count": 6,
      "outputs": [
        {
          "output_type": "stream",
          "name": "stdout",
          "text": [
            "-- The CUDA compiler identification is NVIDIA 11.1.105\n",
            "-- The CXX compiler identification is Clang 6.0.0\n",
            "-- Detecting CUDA compiler ABI info\n",
            "-- Detecting CUDA compiler ABI info - done\n",
            "-- Check for working CUDA compiler: /usr/local/cuda/bin/nvcc - skipped\n",
            "-- Detecting CUDA compile features\n",
            "-- Detecting CUDA compile features - done\n",
            "-- Detecting CXX compiler ABI info\n",
            "-- Detecting CXX compiler ABI info - done\n",
            "-- Check for working CXX compiler: /usr/bin/clang++ - skipped\n",
            "-- Detecting CXX compile features\n",
            "-- Detecting CXX compile features - done\n",
            "-- Looking for C++ include pthread.h\n",
            "-- Looking for C++ include pthread.h - found\n",
            "-- Performing Test CMAKE_HAVE_LIBC_PTHREAD\n",
            "-- Performing Test CMAKE_HAVE_LIBC_PTHREAD - Failed\n",
            "-- Looking for pthread_create in pthreads\n",
            "-- Looking for pthread_create in pthreads - not found\n",
            "-- Looking for pthread_create in pthread\n",
            "-- Looking for pthread_create in pthread - found\n",
            "-- Found Threads: TRUE  \n",
            "-- Found CUDA: /usr/local/cuda (found version \"11.1\") \n",
            "-- Caffe2: CUDA detected: 11.1\n",
            "-- Caffe2: CUDA nvcc is: /usr/local/cuda/bin/nvcc\n",
            "-- Caffe2: CUDA toolkit directory: /usr/local/cuda\n",
            "-- Caffe2: Header version is: 11.1\n",
            "-- Found CUDNN: /usr/lib/x86_64-linux-gnu/libcudnn.so  \n",
            "-- Found cuDNN: v7.6.5  (include: /usr/include, library: /usr/lib/x86_64-linux-gnu/libcudnn.so)\n",
            "-- /usr/local/cuda/lib64/libnvrtc.so shorthash is 3a20f2b6\n",
            "-- Autodetected CUDA architecture(s):  7.5\n",
            "-- Added CUDA NVCC flags for: -gencode;arch=compute_75,code=sm_75\n",
            "-- Found Torch: /content/libtorch/lib/libtorch.so  \n",
            "-- Configuring done\n",
            "-- Generating done\n",
            "-- Build files have been written to: /content/TorchCSD/build\n",
            "[  3%] \u001b[32mBuilding CUDA object lib/modules/activations/kernels/CMakeFiles/activations_kernels.dir/kernels.cu.o\u001b[0m\n",
            "[  7%] \u001b[32m\u001b[1mLinking CUDA static library libactivations_kernels.a\u001b[0m\n",
            "[  7%] Built target activations_kernels\n",
            "[ 11%] \u001b[32mBuilding CXX object lib/modules/activations/autograd/CMakeFiles/activations_autograd.dir/autograd.cpp.o\u001b[0m\n",
            "[ 11%] Built target activations_autograd\n",
            "[ 14%] \u001b[32mBuilding CXX object lib/modules/activations/inference/CMakeFiles/activations_inference.dir/inference.cpp.o\u001b[0m\n",
            "[ 14%] Built target activations_inference\n",
            "[ 18%] \u001b[32mBuilding CXX object lib/modules/activations/CMakeFiles/activations.dir/activations.cpp.o\u001b[0m\n",
            "[ 22%] \u001b[32m\u001b[1mLinking CXX static library libactivations.a\u001b[0m\n",
            "[ 22%] Built target activations\n",
            "[ 25%] \u001b[32mBuilding CUDA object lib/modules/layers/kernels/CMakeFiles/layers_kernels.dir/kernels.cu.o\u001b[0m\n",
            "[ 25%] Built target layers_kernels\n",
            "[ 29%] \u001b[32mBuilding CXX object lib/modules/layers/autograd/CMakeFiles/layers_autograd.dir/autograd.cpp.o\u001b[0m\n",
            "[ 29%] Built target layers_autograd\n",
            "[ 33%] \u001b[32mBuilding CXX object lib/modules/layers/inference/CMakeFiles/layers_inference.dir/inference.cpp.o\u001b[0m\n",
            "[ 33%] Built target layers_inference\n",
            "[ 37%] \u001b[32mBuilding CXX object lib/modules/layers/CMakeFiles/layers.dir/layers.cpp.o\u001b[0m\n",
            "[ 40%] \u001b[32m\u001b[1mLinking CXX static library liblayers.a\u001b[0m\n",
            "[ 40%] Built target layers\n",
            "[ 44%] \u001b[32mBuilding CXX object lib/nets/vanilla_locvol/CMakeFiles/vanilla_locvol.dir/vanilla_locvol.cpp.o\u001b[0m\n",
            "[ 48%] \u001b[32m\u001b[1mLinking CXX static library libvanilla_locvol.a\u001b[0m\n",
            "[ 48%] Built target vanilla_locvol\n",
            "[ 51%] \u001b[32mBuilding CXX object lib/training/CMakeFiles/training.dir/training.cpp.o\u001b[0m\n",
            "[ 51%] Built target training\n",
            "[ 55%] \u001b[32mBuilding CUDA object lib/simulators/kernels/CMakeFiles/simulators_kernels.dir/common.cu.o\u001b[0m\n",
            "[ 59%] \u001b[32mBuilding CUDA object lib/simulators/kernels/CMakeFiles/simulators_kernels.dir/locvol.cu.o\u001b[0m\n",
            "[ 62%] \u001b[32m\u001b[1mLinking CUDA static library libsimulators_kernels.a\u001b[0m\n",
            "[ 62%] Built target simulators_kernels\n",
            "[ 66%] \u001b[32mBuilding CXX object demos/CMakeFiles/benchmark_csd.dir/benchmark_csd.cpp.o\u001b[0m\n",
            "[ 70%] \u001b[32m\u001b[1mLinking CXX executable benchmark_csd\u001b[0m\n",
            "[ 70%] Built target benchmark_csd\n",
            "[ 74%] \u001b[32mBuilding CXX object demos/CMakeFiles/train_vanilla_locvol.dir/train_vanilla_locvol.cpp.o\u001b[0m\n",
            "[ 77%] \u001b[32m\u001b[1mLinking CXX executable train_vanilla_locvol\u001b[0m\n",
            "[ 77%] Built target train_vanilla_locvol\n",
            "[ 81%] \u001b[32mBuilding CXX object demos/CMakeFiles/price_vanilla_locvol.dir/price_vanilla_locvol.cpp.o\u001b[0m\n",
            "[ 85%] \u001b[32m\u001b[1mLinking CXX executable price_vanilla_locvol\u001b[0m\n",
            "[ 85%] Built target price_vanilla_locvol\n",
            "[ 88%] \u001b[32mBuilding CXX object demos/CMakeFiles/grad_check.dir/grad_check.cpp.o\u001b[0m\n",
            "[ 92%] \u001b[32m\u001b[1mLinking CXX executable grad_check\u001b[0m\n",
            "[ 92%] Built target grad_check\n",
            "[ 96%] \u001b[32mBuilding CXX object demos/CMakeFiles/layers_test.dir/layers_test.cpp.o\u001b[0m\n",
            "[100%] \u001b[32m\u001b[1mLinking CXX executable layers_test\u001b[0m\n",
            "[100%] Built target layers_test\n"
          ]
        },
        {
          "output_type": "execute_result",
          "data": {
            "text/plain": [
              ""
            ]
          },
          "metadata": {},
          "execution_count": 6
        }
      ]
    },
    {
      "cell_type": "markdown",
      "source": [
        "The following will launch a training using our training example code. In particular it will use 8388608 samples (half of which are used for training, the other half being used as validation to select the best iterate during the training), 32 sub samples which are averaged over in order to reduce a little bit the variance without necessarily targetting prices, 6 hidden layers and `2*(3+5*5)` neurons per hidden layer.\n",
        "\n",
        "It will train for 300 epochs after warming-up (*ie* training without derivatives in order to get a good initial point) for 30 epochs. The batch size for training is 16384 and for validation 32768. The learning rate during training is 0.01 while during the warm-up phase it is 0.005. We include all the errors (in this order: call and put payoff projection errors and call and put payoff derivatives projection errors) and the no-arbitrage lower-bound penalization term by putting weights 1 in front of them. Finally we halve the learning rate every 50 epochs.\n",
        "\n",
        "See `demos/train_vanilla_locvol.cpp` and `lib/training/training.cpp` for further details."
      ],
      "metadata": {
        "id": "uZG0LvVa7cFU"
      }
    },
    {
      "cell_type": "code",
      "source": [
        "%%shell\n",
        "cd TorchCSD/build/demos\n",
        "./train_vanilla_locvol 0 1 0 8388608 32 6 2 300 30 16384 32768 0.01 0.005 1 1 1 1 1 50 my_neural_net.pt"
      ],
      "metadata": {
        "colab": {
          "base_uri": "https://localhost:8080/"
        },
        "id": "L-yO6X3xFfRs",
        "outputId": "920bc3dd-6adb-4d18-b15a-cb5d97f92b12"
      },
      "execution_count": 7,
      "outputs": [
        {
          "output_type": "stream",
          "name": "stdout",
          "text": [
            "my_neural_net.pt\n",
            "Generated 8388608 instances of model parameters in 0.0205 seconds\n",
            "Generated 8388608 labels in 241.4292 seconds\n",
            "[INIT] 16.0103\n",
            "[WARMUP][e = 0] 0.8751\n",
            "[WARMUP][e = 5] 0.8725\n",
            "[WARMUP][e = 10] 0.8721\n",
            "[WARMUP][e = 15] 0.8717\n",
            "[WARMUP][e = 20] 0.8715\n",
            "[WARMUP][e = 25] 0.8713\n",
            "[TRAIN][e = 0] 1.9436|1.9436\n",
            "[TRAIN][e = 5] 1.7425|1.7425\n",
            "[TRAIN][e = 10] 1.7681|1.7425\n",
            "[TRAIN][e = 15] 1.8423|1.7425\n",
            "[TRAIN][e = 20] 1.9395|1.7425\n",
            "[TRAIN][e = 25] 1.8646|1.7425\n",
            "[TRAIN][e = 30] 1.7779|1.7425\n",
            "[TRAIN][e = 35] 1.7399|1.7399\n",
            "[TRAIN][e = 40] 1.9314|1.7399\n",
            "[TRAIN][e = 45] 1.9177|1.7399\n",
            "[TRAIN][e = 50] 1.7319|1.7319\n",
            "[TRAIN][e = 55] 1.7661|1.7319\n",
            "[TRAIN][e = 60] 1.9522|1.7319\n",
            "[TRAIN][e = 65] 1.9562|1.7319\n",
            "[TRAIN][e = 70] 1.8087|1.7319\n",
            "[TRAIN][e = 75] 1.8876|1.7319\n",
            "[TRAIN][e = 80] 1.8715|1.7319\n",
            "[TRAIN][e = 85] 1.9631|1.7319\n",
            "[TRAIN][e = 90] 1.7728|1.7319\n",
            "[TRAIN][e = 95] 1.9272|1.7319\n",
            "[TRAIN][e = 100] 1.8964|1.7319\n",
            "[TRAIN][e = 105] 1.7812|1.7319\n",
            "[TRAIN][e = 110] 1.9156|1.7319\n",
            "[TRAIN][e = 115] 1.8483|1.7319\n",
            "[TRAIN][e = 120] 1.7400|1.7319\n",
            "[TRAIN][e = 125] 1.8184|1.7319\n",
            "[TRAIN][e = 130] 1.8427|1.7319\n",
            "[TRAIN][e = 135] 1.7870|1.7319\n",
            "[TRAIN][e = 140] 1.8503|1.7319\n",
            "[TRAIN][e = 145] 1.9054|1.7319\n",
            "[TRAIN][e = 150] 1.8395|1.7319\n",
            "[TRAIN][e = 155] 1.7743|1.7319\n",
            "[TRAIN][e = 160] 1.8483|1.7319\n",
            "[TRAIN][e = 165] 1.7343|1.7319\n",
            "[TRAIN][e = 170] 1.7500|1.7319\n",
            "[TRAIN][e = 175] 1.9472|1.7319\n",
            "[TRAIN][e = 180] 1.7425|1.7319\n",
            "[TRAIN][e = 185] 1.8110|1.7319\n",
            "[TRAIN][e = 190] 1.7562|1.7319\n",
            "[TRAIN][e = 195] 1.9861|1.7319\n",
            "[TRAIN][e = 200] 1.7417|1.7319\n",
            "[TRAIN][e = 205] 1.7560|1.7319\n",
            "[TRAIN][e = 210] 1.7979|1.7319\n",
            "[TRAIN][e = 215] 1.7571|1.7319\n",
            "[TRAIN][e = 220] 1.7413|1.7319\n",
            "[TRAIN][e = 225] 1.9046|1.7319\n",
            "[TRAIN][e = 230] 1.7262|1.7262\n",
            "[TRAIN][e = 235] 1.7673|1.7262\n",
            "[TRAIN][e = 240] 1.9470|1.7262\n",
            "[TRAIN][e = 245] 1.7734|1.7262\n",
            "[TRAIN][e = 250] 1.7773|1.7262\n",
            "[TRAIN][e = 255] 1.7911|1.7262\n",
            "[TRAIN][e = 260] 1.8482|1.7262\n",
            "[TRAIN][e = 265] 1.7436|1.7262\n",
            "[TRAIN][e = 270] 1.8244|1.7262\n",
            "[TRAIN][e = 275] 1.9523|1.7262\n",
            "[TRAIN][e = 280] 1.7942|1.7262\n",
            "[TRAIN][e = 285] 1.7931|1.7262\n",
            "[TRAIN][e = 290] 1.7489|1.7262\n",
            "[TRAIN][e = 295] 1.7849|1.7262\n",
            "Neural network trained in 817.9476 seconds\n",
            "Generated out-of-sample 8388608 instances of model parameters in 0.0271 seconds\n",
            "Generated out-of-sample 8388608 labels in 246.7328 seconds\n",
            "> CALL PAYOFF PROJ MSE 0.8646\n",
            "> CALL PAYOFF DIFF PROJ MSE 0.8651\n"
          ]
        },
        {
          "output_type": "execute_result",
          "data": {
            "text/plain": [
              ""
            ]
          },
          "metadata": {},
          "execution_count": 7
        }
      ]
    },
    {
      "cell_type": "markdown",
      "source": [
        "Now we want to compute some prices and gradients using the neural network we just trained."
      ],
      "metadata": {
        "id": "Xlgoa7na9fZc"
      }
    },
    {
      "cell_type": "code",
      "source": [
        "%%shell\n",
        "cd TorchCSD/build/demos\n",
        "./price_vanilla_locvol 0 6 56 my_neural_net.pt prices.pt grads.pt"
      ],
      "metadata": {
        "colab": {
          "base_uri": "https://localhost:8080/"
        },
        "id": "GCLhuIGlJKPU",
        "outputId": "d1cdac8c-e649-4a18-f099-6a7df7b1a351"
      },
      "execution_count": 8,
      "outputs": [
        {
          "output_type": "stream",
          "name": "stdout",
          "text": [
            "my_neural_net.pt\n",
            "Computed 1024 prices and gradients (28 partial derivatives) in 5.0648 milliseconds\n"
          ]
        },
        {
          "output_type": "execute_result",
          "data": {
            "text/plain": [
              ""
            ]
          },
          "metadata": {},
          "execution_count": 8
        }
      ]
    },
    {
      "cell_type": "markdown",
      "source": [
        "Let's benchmark those approximated prices against a (slow) reference nested Monte Carlo pricer. The pricer here is in CUDA but for simplicity is written in Python and we are using Numba to write a CUDA kernel from within Python."
      ],
      "metadata": {
        "id": "PKadKBAgIxy9"
      }
    },
    {
      "cell_type": "code",
      "source": [
        "import math\n",
        "import matplotlib.pyplot as plt\n",
        "from numba import cuda\n",
        "import numba as nb\n",
        "from numba.cuda.random import create_xoroshiro128p_states, xoroshiro128p_uniform_float32, xoroshiro128p_normal_float32, xoroshiro128p_type\n",
        "import numpy as np\n",
        "import torch"
      ],
      "metadata": {
        "id": "_Ptk1yTH9oHg"
      },
      "execution_count": 9,
      "outputs": []
    },
    {
      "cell_type": "markdown",
      "source": [
        "First let's load the files containing the computed prices and gradients and check that the dump did indeed work."
      ],
      "metadata": {
        "id": "_TvIGTDCJNIr"
      }
    },
    {
      "cell_type": "code",
      "source": [
        "prices = next(torch.load('TorchCSD/build/demos/prices.pt', map_location=torch.device('cpu')).parameters())\n",
        "grads = next(torch.load('TorchCSD/build/demos/grads.pt', map_location=torch.device('cpu')).parameters())"
      ],
      "metadata": {
        "colab": {
          "base_uri": "https://localhost:8080/"
        },
        "id": "bAy4DiqNFVBj",
        "outputId": "1f55af93-99c2-4e13-b7ca-2f5740200c19"
      },
      "execution_count": 10,
      "outputs": [
        {
          "output_type": "stream",
          "name": "stderr",
          "text": [
            "/usr/local/lib/python3.7/dist-packages/torch/serialization.py:709: UserWarning: 'torch.load' received a zip file that looks like a TorchScript archive dispatching to 'torch.jit.load' (call 'torch.jit.load' directly to silence this warning)\n",
            "  \" silence this warning)\", UserWarning)\n"
          ]
        }
      ]
    },
    {
      "cell_type": "code",
      "source": [
        "prices.shape"
      ],
      "metadata": {
        "colab": {
          "base_uri": "https://localhost:8080/"
        },
        "id": "pYHfjxPuFX8_",
        "outputId": "4ebbc740-02a6-40e6-e3b8-f3f79329f2ec"
      },
      "execution_count": 11,
      "outputs": [
        {
          "output_type": "execute_result",
          "data": {
            "text/plain": [
              "torch.Size([1024, 1])"
            ]
          },
          "metadata": {},
          "execution_count": 11
        }
      ]
    },
    {
      "cell_type": "code",
      "source": [
        "grads.shape"
      ],
      "metadata": {
        "colab": {
          "base_uri": "https://localhost:8080/"
        },
        "id": "Y3QU-P2WF-kI",
        "outputId": "7da4949d-2ddd-4278-aefe-3d0d8835ecd3"
      },
      "execution_count": 12,
      "outputs": [
        {
          "output_type": "execute_result",
          "data": {
            "text/plain": [
              "torch.Size([1024, 28])"
            ]
          },
          "metadata": {},
          "execution_count": 12
        }
      ]
    },
    {
      "cell_type": "markdown",
      "source": [
        "Shapes look alright. Now what follows is our implementation of a Monte Carlo pricer using the same model parameters.\n",
        "\n",
        "**WARNING:** The following can take very long on the weak GPU instances that are available for free on Google Colaboratory."
      ],
      "metadata": {
        "id": "O-j_RkBTJXxr"
      }
    },
    {
      "cell_type": "code",
      "source": [
        "num_prices = 128 # less than the prices computed using the neural network, because the MC is much slower\n",
        "num_nodes_x = 5\n",
        "num_nodes_y = 5\n",
        "num_inputs = 3+num_nodes_x*num_nodes_y\n",
        "nodes_x = np.linspace(1./12, 2., num_nodes_x, dtype=np.float32)\n",
        "nodes_y = np.linspace(math.log(0.25), math.log(2.1), num_nodes_y, dtype=np.float32)\n",
        "\n",
        "X_test = torch.empty(num_prices, num_inputs, dtype=torch.float32, device='cuda:0')\n",
        "X_test[:, 0] = 0.0128 # r\n",
        "X_test[:, 1] = torch.linspace(0.5, 2., num_prices) # K\n",
        "X_test[:, 2] = 1. # T\n",
        "X_test[:, 3:] = torch.as_tensor(\n",
        "    [\n",
        "        [1.8182, 0.8224, 0.7496, 0.4949, 1.0417],\n",
        "        [1.3432, 0.9347, 0.5703, 0.4868, 0.6863],\n",
        "        [1.8182, 0.3757, 0.5789, 0.5348, 0.6655],\n",
        "        [0.8435, 0.1100, 0.8001, 0.7003, 0.2425],\n",
        "        [1.8182, 1.1904, 0.6852, 0.1100, 1.1492]\n",
        "    ]\n",
        ").view(1, num_nodes_x*num_nodes_y)"
      ],
      "metadata": {
        "id": "U_l5ACgSGM_I"
      },
      "execution_count": 13,
      "outputs": []
    },
    {
      "cell_type": "code",
      "source": [
        "ntpb_price = 1024\n",
        "num_samples_price = 2**18\n",
        "\n",
        "@cuda.jit(device=True, inline=True)\n",
        "def _binary_search(x, arr, low, high):\n",
        "    while True:\n",
        "        mid = (high+low)//2\n",
        "        if mid == low:\n",
        "            return mid\n",
        "        if x < arr[mid]:\n",
        "            high = mid\n",
        "        elif x > arr[mid]:\n",
        "            low = mid\n",
        "        else:\n",
        "            return mid\n",
        "\n",
        "signature = (xoroshiro128p_type[:], nb.float32, nb.float32, nb.float32[:], nb.float32, nb.float32[:, :], nb.float32[:], nb.float32[:, :], nb.float32[:], nb.float32[:], nb.float32[:, :], nb.float32[:], nb.int32)\n",
        "@cuda.jit(func_or_sig=signature, max_registers=64)\n",
        "def _batch_call_price(rng_states, S0, r, K_arr, T, lv_arr, price, dprice, dpricedTdiff, price_std, dprice_std, dpricedTdiff_std, num_steps_per_year):\n",
        "    pricing_idx = cuda.blockIdx.x\n",
        "    local_path_idx = cuda.threadIdx.x\n",
        "    dS = cuda.local.array(num_inputs, dtype=nb.float32)\n",
        "    dpayoff = cuda.local.array(num_inputs, dtype=nb.float32)\n",
        "    dpayoff_sq = cuda.local.array(num_inputs, dtype=nb.float32)\n",
        "    sh_arr = cuda.shared.array(ntpb_price, dtype=nb.float32)\n",
        "    lv = cuda.local.array((num_nodes_x, num_nodes_y), dtype=nb.float32)\n",
        "    local_rng_state = cuda.local.array(1, dtype=xoroshiro128p_type)\n",
        "    cst_nodes_x = cuda.const.array_like(nodes_x)\n",
        "    cst_nodes_y = cuda.const.array_like(nodes_y)\n",
        "    for i in range(num_nodes_x):\n",
        "        for j in range(num_nodes_y):\n",
        "            lv[i, j] = lv_arr[i, j]\n",
        "    K = K_arr[pricing_idx]\n",
        "    num_steps = int(T*num_steps_per_year+0.1)\n",
        "    dt = 1/num_steps_per_year\n",
        "    sqrt_dt = math.sqrt(dt)\n",
        "    T = num_steps*dt\n",
        "    df = math.exp(-r*T)\n",
        "    df_prev = math.exp(-r*(num_steps-1)*dt)\n",
        "    # sh_payoff[local_path_idx] = 0\n",
        "    # sh_payoff_sq[local_path_idx] = 0\n",
        "    # for i in range(num_inputs):\n",
        "    #     sh_dpayoff[local_path_idx, i] = 0\n",
        "    #     sh_dpayoff_sq[local_path_idx, i] = 0\n",
        "    # sh_dpayoffdTdiff[local_path_idx] = 0\n",
        "    # sh_dpayoffdTdiff_sq[local_path_idx] = 0\n",
        "    payoff = 0\n",
        "    payoff_sq = 0\n",
        "    dpayoffdTdiff = 0\n",
        "    dpayoffdTdiff_sq = 0\n",
        "    for i in range(num_inputs):\n",
        "        dpayoff[i] = 0\n",
        "        dpayoff_sq[i] = 0\n",
        "    local_rng_state[0]['s0'] = rng_states[local_path_idx]['s0']\n",
        "    local_rng_state[0]['s1'] = rng_states[local_path_idx]['s1']\n",
        "    for n in range((num_samples_price+ntpb_price-1)//ntpb_price):\n",
        "        # ASSUMING THAT num_samples IS A MULTIPLE OF ntpb\n",
        "        S = math.log(S0)\n",
        "        for i in range(num_inputs):\n",
        "            dS[i] = 0\n",
        "        t = 0\n",
        "        _k = 0\n",
        "        for i in range(num_steps):\n",
        "            Z = xoroshiro128p_normal_float32(local_rng_state, 0)\n",
        "            _k = _binary_search(t, cst_nodes_x, _k, num_nodes_x)\n",
        "            _l = _binary_search(S, cst_nodes_y, 0, num_nodes_y)\n",
        "            if (cst_nodes_x[0] <= t < cst_nodes_x[num_nodes_x-1]) and (cst_nodes_y[0] <= S < cst_nodes_y[num_nodes_y-1]):\n",
        "                # alien way of computing things efficiently :-)\n",
        "                _delta = lv[_k+1, _l]-lv[_k, _l]\n",
        "                _dx = cst_nodes_x[_k+1]-cst_nodes_x[_k]\n",
        "                _lv = _delta*(t-cst_nodes_x[_k])/_dx+lv[_k, _l]\n",
        "                # d/dT\n",
        "                _dlv = i*_delta/_dx # i*(lv[_k+1, _l]-lv[_k, _l])/_dx\n",
        "                _delta = lv[_k+1, _l+1]-lv[_k, _l+1]-_delta # lv[_k+1, _l+1]-lv[_k, _l+1]-lv[_k+1, _l]+lv[_k, _l]\n",
        "                _dy = cst_nodes_y[_l+1]-cst_nodes_y[_l]\n",
        "                _dlv += i*_delta*(S-cst_nodes_y[_l])/(_dx*_dy) # i*(lv[_k+1, _l]-lv[_k, _l])/_dx+\n",
        "                _delta *= (t-cst_nodes_x[_k])/_dx\n",
        "                _delta += lv[_k, _l+1]-lv[_k, _l]\n",
        "                _delta /= _dy\n",
        "                _dlv += dS[2]*_delta\n",
        "                _lv += (S-cst_nodes_y[_l])*_delta\n",
        "                dS[2] += r-0.5*_lv**2-_lv*_dlv*dt+_dlv*sqrt_dt*Z+0.5*_lv*Z/sqrt_dt\n",
        "                # d/dr\n",
        "                _dlv = dS[0]*_delta\n",
        "                dS[0] += dt-_lv*_dlv*dt+_dlv*sqrt_dt*Z\n",
        "                # d/dlv\n",
        "                _dlv = dS[3+_k*num_nodes_y+_l]*_delta+(cst_nodes_y[_l+1]-S)*(cst_nodes_x[_k+1]-t)/(_dx*_dy)\n",
        "                dS[3+_k*num_nodes_y+_l] += -_lv*_dlv*dt+_dlv*sqrt_dt*Z\n",
        "                _dlv = dS[3+_k*num_nodes_y+_l+1]*_delta+(S-cst_nodes_y[_l])*(cst_nodes_x[_k+1]-t)/(_dx*_dy)\n",
        "                dS[3+_k*num_nodes_y+_l+1] += -_lv*_dlv*dt+_dlv*sqrt_dt*Z\n",
        "                _dlv = dS[3+(_k+1)*num_nodes_y+_l]*_delta+(cst_nodes_y[_l+1]-S)*(t-cst_nodes_x[_k])/(_dx*_dy)\n",
        "                dS[3+(_k+1)*num_nodes_y+_l] += -_lv*_dlv*dt+_dlv*sqrt_dt*Z\n",
        "                _dlv = dS[3+(_k+1)*num_nodes_y+_l+1]*_delta+(S-cst_nodes_y[_l])*(t-cst_nodes_x[_k])/(_dx*_dy)\n",
        "                dS[3+(_k+1)*num_nodes_y+_l+1] += -_lv*_dlv*dt+_dlv*sqrt_dt*Z\n",
        "            elif cst_nodes_y[0] <= S < cst_nodes_y[num_nodes_y-1]:\n",
        "                _dy = cst_nodes_y[_l+1]-cst_nodes_y[_l]\n",
        "                _delta = (lv[_k, _l+1]-lv[_k, _l])/_dy\n",
        "                _lv = lv[_k, _l]+_delta*(S-cst_nodes_y[_l])\n",
        "                # d/dT\n",
        "                _dlv = dS[2]*_delta\n",
        "                dS[2] += r-0.5*_lv**2-_lv*_dlv*dt+_dlv*sqrt_dt*Z+0.5*_lv*Z/sqrt_dt\n",
        "                # d/dr\n",
        "                _dlv = dS[0]*_delta\n",
        "                dS[0] += dt-_lv*_dlv*dt+_dlv*sqrt_dt*Z\n",
        "                # d/dlv\n",
        "                _dlv = dS[3+_k*num_nodes_y+_l]*_delta+(cst_nodes_y[_l+1]-S)/_dy\n",
        "                dS[3+_k*num_nodes_y+_l] += -_lv*_dlv*dt+_dlv*sqrt_dt*Z\n",
        "                _dlv = dS[3+_k*num_nodes_y+_l+1]*_delta+(S-cst_nodes_y[_l])/_dy\n",
        "                dS[3+_k*num_nodes_y+_l+1] += -_lv*_dlv*dt+_dlv*sqrt_dt*Z\n",
        "            elif cst_nodes_x[0] <= t < cst_nodes_x[num_nodes_x-1]:\n",
        "                _dx = cst_nodes_x[_k+1]-cst_nodes_x[_k]\n",
        "                _delta = (lv[_k+1, _l]-lv[_k, _l])/_dx\n",
        "                _lv = lv[_k, _l]+_delta*(t-cst_nodes_x[_k])\n",
        "                # d/dT\n",
        "                _dlv = i*_delta\n",
        "                dS[2] += r-0.5*_lv**2-_lv*_dlv*dt+_dlv*sqrt_dt*Z+0.5*_lv*Z/sqrt_dt\n",
        "                # d/dr\n",
        "                dS[0] += dt\n",
        "                # d/dlv\n",
        "                _dlv = (cst_nodes_x[_k+1]-t)/_dx\n",
        "                dS[3+_k*num_nodes_y+_l] += -_lv*_dlv*dt+_dlv*sqrt_dt*Z\n",
        "                _dlv = (t-cst_nodes_x[_k])/_dx\n",
        "                dS[3+(_k+1)*num_nodes_y+_l] += -_lv*_dlv*dt+_dlv*sqrt_dt*Z\n",
        "            else:\n",
        "                _lv = lv[_k, _l]\n",
        "                # d/dT\n",
        "                dS[2] += r-0.5*_lv**2+0.5*_lv*Z/sqrt_dt\n",
        "                # d/dr\n",
        "                dS[0] += dt\n",
        "                # d/dlv\n",
        "                dS[3+_k*num_nodes_y+_l] += -_lv*dt+sqrt_dt*Z\n",
        "            if i==num_steps-1:\n",
        "                S_prev = math.exp(S)\n",
        "            S += (r-0.5*_lv**2)*dt+_lv*sqrt_dt*Z\n",
        "            t += dt\n",
        "        S = math.exp(S)\n",
        "        for i in range(num_inputs):\n",
        "            dS[i] *= S\n",
        "        dS[2] /= num_steps\n",
        "        call_payoff = df*max(S-K, 0)\n",
        "        payoff += call_payoff\n",
        "        payoff_sq += call_payoff**2\n",
        "        for i in range(num_inputs):\n",
        "            _dpayoff = dS[i]*df if S>K else 0\n",
        "            if i==0:\n",
        "                _dpayoff -= T*call_payoff\n",
        "            elif i==1:\n",
        "                _dpayoff -= df if S>K else 0\n",
        "            elif i==2:\n",
        "                _dpayoff -= r*call_payoff\n",
        "            dpayoff[i] += _dpayoff\n",
        "            dpayoff_sq[i] += _dpayoff**2\n",
        "        _dpayoffdTdiff = -r*call_payoff\n",
        "        if S > K:\n",
        "            _dpayoffdTdiff += df*r*S\n",
        "        d1 = (math.log(K/S_prev)-(r-0.5*_lv*_lv)*dt)/(_lv*sqrt_dt)\n",
        "        _dpayoffdTdiff += 0.5*df*_lv*_lv*S*S*math.exp(-0.5*d1*d1)/(math.sqrt(2*math.pi*dt)*_lv*K)\n",
        "        dpayoffdTdiff += _dpayoffdTdiff\n",
        "        dpayoffdTdiff_sq += _dpayoffdTdiff**2\n",
        "    # price\n",
        "    sh_arr[local_path_idx] = payoff\n",
        "    cuda.syncthreads()\n",
        "    k = ntpb_price // 2\n",
        "    while k > 0:\n",
        "        if local_path_idx < k:\n",
        "            sh_arr[local_path_idx] += sh_arr[local_path_idx+k]\n",
        "        cuda.syncthreads()\n",
        "        k //= 2\n",
        "    k = ntpb_price // 2\n",
        "    if local_path_idx == 0:\n",
        "        price[pricing_idx] = sh_arr[local_path_idx]/(ntpb_price*(n+1))\n",
        "    # price std\n",
        "    sh_arr[local_path_idx] = payoff_sq\n",
        "    cuda.syncthreads()\n",
        "    k = ntpb_price // 2\n",
        "    while k > 0:\n",
        "        if local_path_idx < k:\n",
        "            sh_arr[local_path_idx] += sh_arr[local_path_idx+k]\n",
        "        cuda.syncthreads()\n",
        "        k //= 2\n",
        "    k = ntpb_price // 2\n",
        "    if local_path_idx == 0:\n",
        "        price_std[pricing_idx] = math.sqrt((sh_arr[local_path_idx]/(ntpb_price*(n+1))-price[pricing_idx]**2)/(ntpb_price*(n+1)))\n",
        "    # dprice & dprice_std\n",
        "    for i in range(num_inputs):\n",
        "        sh_arr[local_path_idx] = dpayoff[i]\n",
        "        cuda.syncthreads()\n",
        "        k = ntpb_price // 2\n",
        "        while k > 0:\n",
        "            if local_path_idx < k:\n",
        "                sh_arr[local_path_idx] += sh_arr[local_path_idx+k]\n",
        "            cuda.syncthreads()\n",
        "            k //= 2\n",
        "        k = ntpb_price // 2\n",
        "        if local_path_idx == 0:\n",
        "            dprice[pricing_idx, i] = sh_arr[local_path_idx]/(ntpb_price*(n+1))\n",
        "        sh_arr[local_path_idx] = dpayoff_sq[i]\n",
        "        cuda.syncthreads()\n",
        "        k = ntpb_price // 2\n",
        "        while k > 0:\n",
        "            if local_path_idx < k:\n",
        "                sh_arr[local_path_idx] += sh_arr[local_path_idx+k]\n",
        "            cuda.syncthreads()\n",
        "            k //= 2\n",
        "        k = ntpb_price // 2\n",
        "        if local_path_idx == 0:\n",
        "            dprice_std[pricing_idx, i] = math.sqrt((sh_arr[local_path_idx]/(ntpb_price*(n+1))-dprice[pricing_idx, i]**2)/(ntpb_price*(n+1)))\n",
        "    # dpricedTdiff\n",
        "    sh_arr[local_path_idx] = dpayoffdTdiff\n",
        "    cuda.syncthreads()\n",
        "    k = ntpb_price // 2\n",
        "    while k > 0:\n",
        "        if local_path_idx < k:\n",
        "            sh_arr[local_path_idx] += sh_arr[local_path_idx+k]\n",
        "        cuda.syncthreads()\n",
        "        k //= 2\n",
        "    k = ntpb_price // 2\n",
        "    if local_path_idx == 0:\n",
        "        dpricedTdiff[pricing_idx] = sh_arr[local_path_idx]/(ntpb_price*(n+1))\n",
        "    # dpricedTdiff std\n",
        "    sh_arr[local_path_idx] = dpayoffdTdiff_sq\n",
        "    cuda.syncthreads()\n",
        "    k = ntpb_price // 2\n",
        "    while k > 0:\n",
        "        if local_path_idx < k:\n",
        "            sh_arr[local_path_idx] += sh_arr[local_path_idx+k]\n",
        "        cuda.syncthreads()\n",
        "        k //= 2\n",
        "    k = ntpb_price // 2\n",
        "    if local_path_idx == 0:\n",
        "        dpricedTdiff_std[pricing_idx] = math.sqrt((sh_arr[local_path_idx]/(ntpb_price*(n+1))-dpricedTdiff[pricing_idx]**2)/(ntpb_price*(n+1)))\n",
        "batch_call_price = _batch_call_price[num_prices, ntpb_price]"
      ],
      "metadata": {
        "id": "U-gSJs7eGQVg"
      },
      "execution_count": 14,
      "outputs": []
    },
    {
      "cell_type": "code",
      "source": [
        "num_steps_per_year = 1000\n",
        "\n",
        "nb_evt_start = cuda.event(timing=True)\n",
        "nb_evt_stop = cuda.event(timing=True)\n",
        "\n",
        "rng_states = create_xoroshiro128p_states(ntpb_price, 0)\n",
        "\n",
        "mc_price = cuda.device_array(num_prices, dtype=np.float32)\n",
        "mc_price_std = cuda.device_array(num_prices, dtype=np.float32)\n",
        "mc_dprice = cuda.device_array((num_prices, num_inputs), dtype=np.float32)\n",
        "mc_dprice_std = cuda.device_array((num_prices, num_inputs), dtype=np.float32)\n",
        "mc_dpricedTdiff = cuda.device_array(num_prices, dtype=np.float32)\n",
        "mc_dpricedTdiff_std = cuda.device_array(num_prices, dtype=np.float32)\n",
        "\n",
        "nb_evt_start.record()\n",
        "batch_call_price(rng_states, 1., X_test[0, 0], cuda.as_cuda_array(X_test[:, 1]), X_test[0, 2], cuda.as_cuda_array(X_test[0, 3:].reshape(num_nodes_x, num_nodes_y)), mc_price, mc_dprice, mc_dpricedTdiff, mc_price_std, mc_dprice_std, mc_dpricedTdiff_std, num_steps_per_year)\n",
        "nb_evt_stop.record()\n",
        "nb_evt_stop.synchronize()\n",
        "\n",
        "print('Elapsed time: {} secs'.format(round(nb_evt_start.elapsed_time(nb_evt_stop)/1000, 3)))"
      ],
      "metadata": {
        "id": "ZIP1csA0GwTG"
      },
      "execution_count": null,
      "outputs": []
    },
    {
      "cell_type": "code",
      "source": [
        "_price_NN = prices.numpy()[:, 0]\n",
        "_grads_NN = grads.numpy()"
      ],
      "metadata": {
        "id": "jwjqL0ypRDax"
      },
      "execution_count": 16,
      "outputs": []
    },
    {
      "cell_type": "code",
      "source": [
        "plt.figure(dpi=100)\n",
        "with torch.no_grad():\n",
        "    _price_MC = mc_price.copy_to_host()\n",
        "    plt.plot(np.linspace(0.5, 2., 1024), _price_NN, label='NN-projected price')\n",
        "    plt.plot(X_test[:, 1].cpu().numpy(), _price_MC, label='Monte-Carlo price')\n",
        "    plt.xlabel(r'$K$')\n",
        "    plt.ylabel('price')\n",
        "    plt.legend(frameon=False);"
      ],
      "metadata": {
        "id": "p3wSmDPGIo6s",
        "colab": {
          "base_uri": "https://localhost:8080/",
          "height": 382
        },
        "outputId": "e53f93d7-e92b-4920-a427-c7e86f8c6603"
      },
      "execution_count": 18,
      "outputs": [
        {
          "output_type": "display_data",
          "data": {
            "text/plain": [
              "<Figure size 600x400 with 1 Axes>"
            ],
            "image/png": "[encoded data removed]"
          },
          "metadata": {
            "needs_background": "light"
          }
        }
      ]
    },
    {
      "cell_type": "code",
      "source": [
        "_dprice_MC = mc_dprice.copy_to_host()"
      ],
      "metadata": {
        "id": "tHXeqE7FyPtB"
      },
      "execution_count": 19,
      "outputs": []
    },
    {
      "cell_type": "code",
      "source": [
        "var_diff_idx = 1 # index of the variable with respect to which we want the derivative\n",
        "# 1 corresponds to the strike in this example\n",
        "plt.figure(dpi=100)\n",
        "with torch.no_grad():\n",
        "    plt.plot(np.linspace(0.5, 2., 1024), _grads_NN[:, var_diff_idx], label='NN-projected derivative')\n",
        "    plt.plot(X_test[:, 1].cpu().numpy(), _dprice_MC[:, var_diff_idx], label='Monte-Carlo algorithmic derivative')\n",
        "    plt.xlabel(r'$K$')\n",
        "    plt.ylabel('derivative')\n",
        "    plt.legend(frameon=False);"
      ],
      "metadata": {
        "colab": {
          "base_uri": "https://localhost:8080/",
          "height": 382
        },
        "outputId": "874194d3-5aea-4272-88c7-a7e9a3bb01a0",
        "id": "BOwh9L9ByBbL"
      },
      "execution_count": 22,
      "outputs": [
        {
          "output_type": "display_data",
          "data": {
            "text/plain": [
              "<Figure size 600x400 with 1 Axes>"
            ],
            "image/png": "[encoded data removed]"
          },
          "metadata": {
            "needs_background": "light"
          }
        }
      ]
    },
    {
      "cell_type": "code",
      "source": [
        ""
      ],
      "metadata": {
        "id": "-qJU5j1PynZU"
      },
      "execution_count": null,
      "outputs": []
    }
  ]
}